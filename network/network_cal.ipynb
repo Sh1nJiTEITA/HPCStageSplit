{
 "cells": [
  {
   "cell_type": "code",
   "execution_count": 10,
   "metadata": {},
   "outputs": [
    {
     "name": "stdout",
     "output_type": "stream",
     "text": [
      "e:\\REMOTE\\YandexDisk\\MPEI\\DIP\\part 2\n"
     ]
    }
   ],
   "source": [
    "%cd ..\n",
    "from API import *\n",
    "from itertools import product\n",
    "from pprint import pprint\n",
    "from progressbar import ProgressBar\n",
    "from tqdm.notebook import tqdm\n",
    "\n",
    "import numpy as np\n",
    "from IPython.display import display\n"
   ]
  },
  {
   "attachments": {},
   "cell_type": "markdown",
   "metadata": {},
   "source": [
    "# Генерация входной и выходной базы данных\n",
    "### Входные параметры\n",
    "\n",
    "\n",
    "|Наименование                               |Обозначение    |Переменная |Размерность|\n",
    "|---------------------------------------------------------------|---------------|-----------|-----------|\n",
    "|Статическое давление на входе в ступень                        |$p_0$          |p_0        |МПа        |\n",
    "|Статическая температура на входе в ступент                     |$t_0$          |t_0        |degC       |\n",
    "|Статический теплоперепад ступени                               |$H_0$          |H_0        |кДж/кг     |\n",
    "|Степень реактивности на среднем диаметре                       |$\\rho$         |reaction   |-          |\n",
    "|Диаметр корня ступени                                          |$d_{к}$        |d_hub      |м          |\n",
    "|Абсолютный угол выхода потока из соплвой решетки ступени       |$\\alpha_{1}$   |alpha_1    |deg        |\n",
    "|Массовый расход                                                |$G_0$          |G_0        |кг/с       |\n",
    "\n",
    "Диапазоны вариации входных параметров:"
   ]
  },
  {
   "cell_type": "code",
   "execution_count": 11,
   "metadata": {},
   "outputs": [],
   "source": [
    "# input_paramaters_dict = {\n",
    "#     \"p_0\":      [2, 9, 1],\n",
    "             \n",
    "#     \"t_0\":      [300, 550, 50],\n",
    "    \n",
    "#     \"H_0\":      [20, 160, 20],\n",
    "    \n",
    "#     \"reaction\": [0.1, 0.6, 0.05],\n",
    "    \n",
    "#     \"d_hub\":    [0.65, 1.0, 0.05],\n",
    "    \n",
    "#     \"n\":        [50, 101, 50],\n",
    "    \n",
    "#     \"alpha_1\":  [9, 30, 2],\n",
    "    \n",
    "#     \"G_0\":      [20, 180, 40]\n",
    "# }\n",
    "input_paramaters_dict = {\n",
    "    \"p_0\":      [6, 8, 1],\n",
    "             \n",
    "    \"t_0\":      [300, 400, 50],\n",
    "    \n",
    "    \"H_0\":      [20, 60, 20],\n",
    "    \n",
    "    \"reaction\": [0.1, 0.3, 0.05],\n",
    "    \n",
    "    \"d_hub\":    [0.65, 1.0, 0.1],\n",
    "    \n",
    "    \"n\":        [50, 101, 50],\n",
    "    \n",
    "    \"alpha_1\":  [9, 15, 2],\n",
    "    \n",
    "    \"G_0\":      [20, 180, 40]\n",
    "}"
   ]
  },
  {
   "cell_type": "code",
   "execution_count": 12,
   "metadata": {},
   "outputs": [
    {
     "data": {
      "text/plain": [
       "[array([6, 7]),\n",
       " array([300, 350]),\n",
       " array([20, 40]),\n",
       " array([0.1 , 0.15, 0.2 , 0.25]),\n",
       " array([0.65, 0.75, 0.85, 0.95]),\n",
       " array([ 50, 100]),\n",
       " array([ 9, 11, 13]),\n",
       " array([ 20,  60, 100, 140])]"
      ]
     },
     "execution_count": 12,
     "metadata": {},
     "output_type": "execute_result"
    }
   ],
   "source": [
    "input_parameters_arange = [np.arange(*input_paramaters_dict[param]) for param in input_paramaters_dict]\n",
    "input_parameters_arange"
   ]
  },
  {
   "attachments": {},
   "cell_type": "markdown",
   "metadata": {},
   "source": [
    "Общее число итераций"
   ]
  },
  {
   "cell_type": "code",
   "execution_count": 13,
   "metadata": {},
   "outputs": [
    {
     "data": {
      "text/plain": [
       "3072"
      ]
     },
     "execution_count": 13,
     "metadata": {},
     "output_type": "execute_result"
    }
   ],
   "source": [
    "number_of_rows = len(list(product(*input_parameters_arange)))\n",
    "number_of_rows"
   ]
  },
  {
   "attachments": {},
   "cell_type": "markdown",
   "metadata": {},
   "source": [
    "### Выходные параметры\n",
    "\n",
    "|Наименование                                                   |Обозначение    |Переменная |Размерность|\n",
    "|---------------------------------------------------------------|---------------|-----------|-----------|\n",
    "|Успешность расчета ступени                                     |$isOK$         |isOK       |-          |               \n",
    "|Относительный лопаточный КПД                                   |$p_0$          |p_0        |МПа        |\n",
    "|Лопаточная мощность ступени                                    |$t_0$          |t_0        |degC       |\n",
    "|Длина лопатки                                                  |$H_0$          |H_0        |кДж/кг     |\n"
   ]
  },
  {
   "attachments": {},
   "cell_type": "markdown",
   "metadata": {},
   "source": [
    "### Генерация датасета"
   ]
  },
  {
   "cell_type": "code",
   "execution_count": 14,
   "metadata": {},
   "outputs": [
    {
     "data": {
      "text/plain": [
       "[array([nan, nan, nan, ..., nan, nan, nan]),\n",
       " array([nan, nan, nan, ..., nan, nan, nan]),\n",
       " array([nan, nan, nan, ..., nan, nan, nan]),\n",
       " array([nan, nan, nan, ..., nan, nan, nan]),\n",
       " array([nan, nan, nan, ..., nan, nan, nan]),\n",
       " array([nan, nan, nan, ..., nan, nan, nan]),\n",
       " array([nan, nan, nan, ..., nan, nan, nan]),\n",
       " array([nan, nan, nan, ..., nan, nan, nan])]"
      ]
     },
     "execution_count": 14,
     "metadata": {},
     "output_type": "execute_result"
    }
   ],
   "source": [
    "# Data arrays\n",
    "save_input_parameters_list = [np.full(number_of_rows,None, dtype=float) for param in input_paramaters_dict]\n",
    "save_input_parameters_list"
   ]
  },
  {
   "cell_type": "code",
   "execution_count": 15,
   "metadata": {},
   "outputs": [
    {
     "data": {
      "text/plain": [
       "[array([nan, nan, nan, ..., nan, nan, nan]),\n",
       " array([nan, nan, nan, ..., nan, nan, nan]),\n",
       " array([nan, nan, nan, ..., nan, nan, nan]),\n",
       " array([nan, nan, nan, ..., nan, nan, nan])]"
      ]
     },
     "execution_count": 15,
     "metadata": {},
     "output_type": "execute_result"
    }
   ],
   "source": [
    "output_parameters_names_list = [\n",
    "    'isOK',\n",
    "    'eff_ol',\n",
    "    'Nu',\n",
    "    'l_1',\n",
    "]\n",
    "save_output_parameters_list = [np.full(number_of_rows,None, dtype=float) for param in output_parameters_names_list]\n",
    "save_output_parameters_list"
   ]
  },
  {
   "attachments": {},
   "cell_type": "markdown",
   "metadata": {},
   "source": [
    "```python\n",
    "def get_results(self):\n",
    "    return {\n",
    "        'd':        ...,\n",
    "        'l_1':      ...,\n",
    "        'l_2':      ...,\n",
    "        'c_0':      ...,\n",
    "        'c_1':      ..., \n",
    "        'c_2':      ...,\n",
    "        'w_1':      ...,\n",
    "        'w_2':      ...,\n",
    "        'alpha_0':  ...,\n",
    "        'alpha_1':  ...,\n",
    "        'beta_1':   ...,\n",
    "        'beta_2':   ...,\n",
    "        'u':        ...,\n",
    "        'X':        ...,\n",
    "        'Delta_Hs': ...,\n",
    "        'Delta_Hr': ...,\n",
    "        'phi':      ...,\n",
    "        'psi':      ...,\n",
    "        'eff_ol':   ...,\n",
    "        'E_0':      ...,\n",
    "        'b_1':      ...,\n",
    "        'b_2':      ...,\n",
    "        'Name_1':   ...,\n",
    "        'Name_2':   ...,\n",
    "        'Nu':       ...\n",
    "    }\n",
    "```"
   ]
  },
  {
   "cell_type": "code",
   "execution_count": 16,
   "metadata": {},
   "outputs": [],
   "source": [
    "\n",
    "\n",
    "# # Создаем текстовый виджет для вывода значения переменной\n",
    "# output_widget = widgets.Output()\n",
    "\n",
    "# # Определяем переменную, которую нужно мониторить\n",
    "# a = 0\n",
    "\n",
    "# # Функция, которая будет вызываться для обновления значения переменной\n",
    "# def update_a():\n",
    "#     global a\n",
    "#     a += 1\n",
    "#     # Очищаем предыдущий вывод и выводим новое значение переменной\n",
    "#     with output_widget:\n",
    "#         # Очищаем предыдущий вывод\n",
    "#         output_widget.clear_output(wait=True)\n",
    "#         # Выводим новое значение переменной\n",
    "#         print(\"Значение переменной a:\", a)\n",
    "\n",
    "# # Создаем кнопку, которая будет вызывать функцию update_a при нажатии\n",
    "# button = widgets.Button(description=\"Обновить a\")\n",
    "# button.on_click(lambda _: update_a())\n",
    "\n",
    "# # Отображаем кнопку и текстовый виджет в ячейке\n",
    "# display(button)\n",
    "# display(output_widget)"
   ]
  },
  {
   "cell_type": "code",
   "execution_count": 17,
   "metadata": {},
   "outputs": [
    {
     "name": "stdout",
     "output_type": "stream",
     "text": [
      "8\n"
     ]
    }
   ],
   "source": [
    "from time import sleep\n",
    "import ipywidgets as widgets\n",
    "from IPython.display import display\n",
    "\n",
    "widgets_list = []\n",
    "widgets_text_list = [\n",
    "    'p_0 = \\t\\t{} MPa',\n",
    "    't_0 = \\t\\t{} degC',\n",
    "    'H_0 = \\t\\t{} kJ/kg',\n",
    "    \"reaction = \\t{}\",\n",
    "    \"d_hub = \\t{} m\",\n",
    "    \"n = \\t\\t{} 1/s\",\n",
    "    \"alpha_1 = \\t{} deg\",\n",
    "    \"G_0 = \\t\\t{} kg/s\"\n",
    "]\n",
    "\n",
    "\n",
    "\n",
    "for param in input_paramaters_dict:\n",
    "    widgets_list.append(widgets.Output())\n",
    "print(len(widgets_list))\n",
    "\n",
    "def set_widgets_value(inlist):\n",
    "    for index, wid in enumerate(widgets_list):\n",
    "        with wid:\n",
    "            wid.clear_output(wait=True)\n",
    "            print(widgets_text_list[index].format(inlist[index]))\n",
    "\n",
    "set_widgets_value([0,0,3,4,6,8,9,0,10,1])\n",
    "\n",
    "def print_wid():\n",
    "    for wid in widgets_list:\n",
    "        display(wid)\n",
    "\n",
    "\n"
   ]
  },
  {
   "cell_type": "code",
   "execution_count": 18,
   "metadata": {},
   "outputs": [
    {
     "data": {
      "application/vnd.jupyter.widget-view+json": {
       "model_id": "3275bba6dd9d4765aee80dca32685f86",
       "version_major": 2,
       "version_minor": 0
      },
      "text/plain": [
       "Output(outputs=({'name': 'stdout', 'text': 'p_0 = \\t\\t0 MPa\\n', 'output_type': 'stream'},))"
      ]
     },
     "metadata": {},
     "output_type": "display_data"
    },
    {
     "data": {
      "application/vnd.jupyter.widget-view+json": {
       "model_id": "6f986e7e47cf4d559f69f4f62a4a98df",
       "version_major": 2,
       "version_minor": 0
      },
      "text/plain": [
       "Output(outputs=({'name': 'stdout', 'text': 't_0 = \\t\\t0 degC\\n', 'output_type': 'stream'},))"
      ]
     },
     "metadata": {},
     "output_type": "display_data"
    },
    {
     "data": {
      "application/vnd.jupyter.widget-view+json": {
       "model_id": "e6e4a449f01f424c993178ba56bf6146",
       "version_major": 2,
       "version_minor": 0
      },
      "text/plain": [
       "Output(outputs=({'name': 'stdout', 'text': 'H_0 = \\t\\t3 kJ/kg\\n', 'output_type': 'stream'},))"
      ]
     },
     "metadata": {},
     "output_type": "display_data"
    },
    {
     "data": {
      "application/vnd.jupyter.widget-view+json": {
       "model_id": "494a235e0495400f886e336498066dfb",
       "version_major": 2,
       "version_minor": 0
      },
      "text/plain": [
       "Output(outputs=({'name': 'stdout', 'text': 'reaction = \\t4\\n', 'output_type': 'stream'},))"
      ]
     },
     "metadata": {},
     "output_type": "display_data"
    },
    {
     "data": {
      "application/vnd.jupyter.widget-view+json": {
       "model_id": "06d965684c3f486694d060d36ac0a78b",
       "version_major": 2,
       "version_minor": 0
      },
      "text/plain": [
       "Output(outputs=({'name': 'stdout', 'text': 'd_hub = \\t6 m\\n', 'output_type': 'stream'},))"
      ]
     },
     "metadata": {},
     "output_type": "display_data"
    },
    {
     "data": {
      "application/vnd.jupyter.widget-view+json": {
       "model_id": "8851700f352543c685a04c701a7d5e9a",
       "version_major": 2,
       "version_minor": 0
      },
      "text/plain": [
       "Output(outputs=({'name': 'stdout', 'text': 'n = \\t\\t8 1/s\\n', 'output_type': 'stream'},))"
      ]
     },
     "metadata": {},
     "output_type": "display_data"
    },
    {
     "data": {
      "application/vnd.jupyter.widget-view+json": {
       "model_id": "441923cb32654ffeb5258322f530899f",
       "version_major": 2,
       "version_minor": 0
      },
      "text/plain": [
       "Output(outputs=({'name': 'stdout', 'text': 'alpha_1 = \\t9 deg\\n', 'output_type': 'stream'},))"
      ]
     },
     "metadata": {},
     "output_type": "display_data"
    },
    {
     "data": {
      "application/vnd.jupyter.widget-view+json": {
       "model_id": "4be1eef825d342ad8a0d0d465c31f186",
       "version_major": 2,
       "version_minor": 0
      },
      "text/plain": [
       "Output(outputs=({'name': 'stdout', 'text': 'G_0 = \\t\\t0 kg/s\\n', 'output_type': 'stream'},))"
      ]
     },
     "metadata": {},
     "output_type": "display_data"
    },
    {
     "data": {
      "application/vnd.jupyter.widget-view+json": {
       "model_id": "73ee392e4721422a9402756ffcb35b10",
       "version_major": 2,
       "version_minor": 0
      },
      "text/plain": [
       "Processing:   0%|          | 0/3072 [00:00<?, ?it/s]"
      ]
     },
     "metadata": {},
     "output_type": "display_data"
    },
    {
     "data": {
      "application/vnd.jupyter.widget-view+json": {
       "model_id": "defacafd164e45dda20b7f9924e18e6a",
       "version_major": 2,
       "version_minor": 0
      },
      "text/plain": [
       "0it [00:00, ?it/s]"
      ]
     },
     "metadata": {},
     "output_type": "display_data"
    },
    {
     "ename": "KeyboardInterrupt",
     "evalue": "",
     "output_type": "error",
     "traceback": [
      "\u001b[1;31m---------------------------------------------------------------------------\u001b[0m",
      "\u001b[1;31mKeyboardInterrupt\u001b[0m                         Traceback (most recent call last)",
      "\u001b[1;32me:\\REMOTE\\YandexDisk\\MPEI\\DIP\\part 2\\split\\network\\network.ipynb Cell 14\u001b[0m in \u001b[0;36m<cell line: 5>\u001b[1;34m()\u001b[0m\n\u001b[0;32m      <a href='vscode-notebook-cell:/e%3A/REMOTE/YandexDisk/MPEI/DIP/part%202/split/network/network.ipynb#X16sZmlsZQ%3D%3D?line=4'>5</a>\u001b[0m \u001b[39mwith\u001b[39;00m tqdm(total \u001b[39m=\u001b[39m number_of_rows, desc \u001b[39m=\u001b[39m \u001b[39m'\u001b[39m\u001b[39mProcessing\u001b[39m\u001b[39m'\u001b[39m) \u001b[39mas\u001b[39;00m pbar:\n\u001b[0;32m      <a href='vscode-notebook-cell:/e%3A/REMOTE/YandexDisk/MPEI/DIP/part%202/split/network/network.ipynb#X16sZmlsZQ%3D%3D?line=5'>6</a>\u001b[0m     \u001b[39mfor\u001b[39;00m p_i, t_i, H_i, reaction_i, d_hub_i, n_i, alpha_1_i, G_0_i \u001b[39min\u001b[39;00m tqdm(product(\u001b[39m*\u001b[39minput_parameters_arange)):\n\u001b[1;32m----> <a href='vscode-notebook-cell:/e%3A/REMOTE/YandexDisk/MPEI/DIP/part%202/split/network/network.ipynb#X16sZmlsZQ%3D%3D?line=6'>7</a>\u001b[0m         stage \u001b[39m=\u001b[39m Stage(\n\u001b[0;32m      <a href='vscode-notebook-cell:/e%3A/REMOTE/YandexDisk/MPEI/DIP/part%202/split/network/network.ipynb#X16sZmlsZQ%3D%3D?line=7'>8</a>\u001b[0m             \u001b[39m# main iterable parameters\u001b[39;49;00m\n\u001b[0;32m      <a href='vscode-notebook-cell:/e%3A/REMOTE/YandexDisk/MPEI/DIP/part%202/split/network/network.ipynb#X16sZmlsZQ%3D%3D?line=8'>9</a>\u001b[0m             p_0 \u001b[39m=\u001b[39;49m p_i,\n\u001b[0;32m     <a href='vscode-notebook-cell:/e%3A/REMOTE/YandexDisk/MPEI/DIP/part%202/split/network/network.ipynb#X16sZmlsZQ%3D%3D?line=9'>10</a>\u001b[0m             t_0 \u001b[39m=\u001b[39;49m t_i,\n\u001b[0;32m     <a href='vscode-notebook-cell:/e%3A/REMOTE/YandexDisk/MPEI/DIP/part%202/split/network/network.ipynb#X16sZmlsZQ%3D%3D?line=10'>11</a>\u001b[0m             G_0 \u001b[39m=\u001b[39;49m G_0_i,\n\u001b[0;32m     <a href='vscode-notebook-cell:/e%3A/REMOTE/YandexDisk/MPEI/DIP/part%202/split/network/network.ipynb#X16sZmlsZQ%3D%3D?line=11'>12</a>\u001b[0m             d_hub \u001b[39m=\u001b[39;49m d_hub_i,\n\u001b[0;32m     <a href='vscode-notebook-cell:/e%3A/REMOTE/YandexDisk/MPEI/DIP/part%202/split/network/network.ipynb#X16sZmlsZQ%3D%3D?line=12'>13</a>\u001b[0m             n \u001b[39m=\u001b[39;49m n_i,\n\u001b[0;32m     <a href='vscode-notebook-cell:/e%3A/REMOTE/YandexDisk/MPEI/DIP/part%202/split/network/network.ipynb#X16sZmlsZQ%3D%3D?line=13'>14</a>\u001b[0m             reaction \u001b[39m=\u001b[39;49m reaction_i,\n\u001b[0;32m     <a href='vscode-notebook-cell:/e%3A/REMOTE/YandexDisk/MPEI/DIP/part%202/split/network/network.ipynb#X16sZmlsZQ%3D%3D?line=14'>15</a>\u001b[0m             alpha_1eef \u001b[39m=\u001b[39;49m alpha_1_i,\n\u001b[0;32m     <a href='vscode-notebook-cell:/e%3A/REMOTE/YandexDisk/MPEI/DIP/part%202/split/network/network.ipynb#X16sZmlsZQ%3D%3D?line=15'>16</a>\u001b[0m             H_0 \u001b[39m=\u001b[39;49m H_i,\n\u001b[0;32m     <a href='vscode-notebook-cell:/e%3A/REMOTE/YandexDisk/MPEI/DIP/part%202/split/network/network.ipynb#X16sZmlsZQ%3D%3D?line=16'>17</a>\u001b[0m \n\u001b[0;32m     <a href='vscode-notebook-cell:/e%3A/REMOTE/YandexDisk/MPEI/DIP/part%202/split/network/network.ipynb#X16sZmlsZQ%3D%3D?line=17'>18</a>\u001b[0m             \u001b[39m# other\u001b[39;49;00m\n\u001b[0;32m     <a href='vscode-notebook-cell:/e%3A/REMOTE/YandexDisk/MPEI/DIP/part%202/split/network/network.ipynb#X16sZmlsZQ%3D%3D?line=18'>19</a>\u001b[0m             c_0 \u001b[39m=\u001b[39;49m np\u001b[39m.\u001b[39;49msqrt(\u001b[39m2000\u001b[39;49m \u001b[39m*\u001b[39;49m \u001b[39m0.05\u001b[39;49m \u001b[39m*\u001b[39;49m H_i),\n\u001b[0;32m     <a href='vscode-notebook-cell:/e%3A/REMOTE/YandexDisk/MPEI/DIP/part%202/split/network/network.ipynb#X16sZmlsZQ%3D%3D?line=19'>20</a>\u001b[0m             alpha_0 \u001b[39m=\u001b[39;49m \u001b[39m90\u001b[39;49m,\n\u001b[0;32m     <a href='vscode-notebook-cell:/e%3A/REMOTE/YandexDisk/MPEI/DIP/part%202/split/network/network.ipynb#X16sZmlsZQ%3D%3D?line=20'>21</a>\u001b[0m             Delta_pr \u001b[39m=\u001b[39;49m \u001b[39m0.003\u001b[39;49m,\n\u001b[0;32m     <a href='vscode-notebook-cell:/e%3A/REMOTE/YandexDisk/MPEI/DIP/part%202/split/network/network.ipynb#X16sZmlsZQ%3D%3D?line=21'>22</a>\u001b[0m         )\n\u001b[0;32m     <a href='vscode-notebook-cell:/e%3A/REMOTE/YandexDisk/MPEI/DIP/part%202/split/network/network.ipynb#X16sZmlsZQ%3D%3D?line=23'>24</a>\u001b[0m         \u001b[39m# # Save input parameters\u001b[39;00m\n\u001b[0;32m     <a href='vscode-notebook-cell:/e%3A/REMOTE/YandexDisk/MPEI/DIP/part%202/split/network/network.ipynb#X16sZmlsZQ%3D%3D?line=24'>25</a>\u001b[0m         \u001b[39m# save_input_parameters_list[0][itaration] = p_i\u001b[39;00m\n\u001b[0;32m     <a href='vscode-notebook-cell:/e%3A/REMOTE/YandexDisk/MPEI/DIP/part%202/split/network/network.ipynb#X16sZmlsZQ%3D%3D?line=25'>26</a>\u001b[0m         \u001b[39m# save_input_parameters_list[1][itaration] = t_i\u001b[39;00m\n\u001b[1;32m   (...)\u001b[0m\n\u001b[0;32m     <a href='vscode-notebook-cell:/e%3A/REMOTE/YandexDisk/MPEI/DIP/part%202/split/network/network.ipynb#X16sZmlsZQ%3D%3D?line=30'>31</a>\u001b[0m         \u001b[39m# save_input_parameters_list[6][itaration] = alpha_1_i\u001b[39;00m\n\u001b[0;32m     <a href='vscode-notebook-cell:/e%3A/REMOTE/YandexDisk/MPEI/DIP/part%202/split/network/network.ipynb#X16sZmlsZQ%3D%3D?line=31'>32</a>\u001b[0m         \u001b[39m# save_input_parameters_list[7][itaration] = G_0_i\u001b[39;00m\n\u001b[0;32m     <a href='vscode-notebook-cell:/e%3A/REMOTE/YandexDisk/MPEI/DIP/part%202/split/network/network.ipynb#X16sZmlsZQ%3D%3D?line=33'>34</a>\u001b[0m         set_widgets_value([\n\u001b[0;32m     <a href='vscode-notebook-cell:/e%3A/REMOTE/YandexDisk/MPEI/DIP/part%202/split/network/network.ipynb#X16sZmlsZQ%3D%3D?line=34'>35</a>\u001b[0m             p_i, \n\u001b[0;32m     <a href='vscode-notebook-cell:/e%3A/REMOTE/YandexDisk/MPEI/DIP/part%202/split/network/network.ipynb#X16sZmlsZQ%3D%3D?line=35'>36</a>\u001b[0m             t_i,\n\u001b[1;32m   (...)\u001b[0m\n\u001b[0;32m     <a href='vscode-notebook-cell:/e%3A/REMOTE/YandexDisk/MPEI/DIP/part%202/split/network/network.ipynb#X16sZmlsZQ%3D%3D?line=40'>41</a>\u001b[0m             alpha_1_i,\n\u001b[0;32m     <a href='vscode-notebook-cell:/e%3A/REMOTE/YandexDisk/MPEI/DIP/part%202/split/network/network.ipynb#X16sZmlsZQ%3D%3D?line=41'>42</a>\u001b[0m             G_0_i])\n",
      "File \u001b[1;32me:\\REMOTE\\YandexDisk\\MPEI\\DIP\\part 2\\split\\API\\Stage.py:244\u001b[0m, in \u001b[0;36mStage.__init__\u001b[1;34m(self, p_0, t_0, G_0, d_hub, n, reaction, alpha_0, alpha_1eef, H_0, c_0, Delta_pr, extra_param, kappa_vs, **kwargs)\u001b[0m\n\u001b[0;32m    242\u001b[0m \u001b[39m# Основной расчет ступени \u001b[39;00m\n\u001b[0;32m    243\u001b[0m \u001b[39mtry\u001b[39;00m:\n\u001b[1;32m--> 244\u001b[0m     \u001b[39mself\u001b[39;49m\u001b[39m.\u001b[39;49mcalculate()\n\u001b[0;32m    245\u001b[0m \u001b[39mexcept\u001b[39;00m \u001b[39mException\u001b[39;00m \u001b[39mas\u001b[39;00m s:\n\u001b[0;32m    246\u001b[0m     \u001b[39mself\u001b[39m\u001b[39m.\u001b[39m__isOK \u001b[39m=\u001b[39m \u001b[39mFalse\u001b[39;00m\n",
      "File \u001b[1;32me:\\REMOTE\\YandexDisk\\MPEI\\DIP\\part 2\\split\\API\\Stage.py:916\u001b[0m, in \u001b[0;36mStage.calculate\u001b[1;34m(self)\u001b[0m\n\u001b[0;32m    912\u001b[0m     isBendingOK \u001b[39m=\u001b[39m \u001b[39mTrue\u001b[39;00m\n\u001b[0;32m    914\u001b[0m \u001b[39m# 3.9. Если прошлое условие на изгиб выполнилось, начинаем уточнять коэффициенты скорости\u001b[39;00m\n\u001b[0;32m    915\u001b[0m \u001b[39m# Для сопловой решетки \u001b[39;00m\n\u001b[1;32m--> 916\u001b[0m new_phi \u001b[39m=\u001b[39m np\u001b[39m.\u001b[39msqrt(\u001b[39m1\u001b[39m \u001b[39m-\u001b[39m \u001b[39mself\u001b[39;49m\u001b[39m.\u001b[39;49m__calculate_losses(\u001b[39mtype\u001b[39;49m\u001b[39m=\u001b[39;49m\u001b[39m'\u001b[39;49m\u001b[39ms\u001b[39;49m\u001b[39m'\u001b[39;49m,b\u001b[39m=\u001b[39;49mb_1))\n\u001b[0;32m    917\u001b[0m \u001b[39m# Для рабочей решетки\u001b[39;00m\n\u001b[0;32m    918\u001b[0m new_psi \u001b[39m=\u001b[39m np\u001b[39m.\u001b[39msqrt(\u001b[39m1\u001b[39m \u001b[39m-\u001b[39m \u001b[39mself\u001b[39m\u001b[39m.\u001b[39m__calculate_losses(\u001b[39mtype\u001b[39m\u001b[39m=\u001b[39m\u001b[39m'\u001b[39m\u001b[39mr\u001b[39m\u001b[39m'\u001b[39m,b\u001b[39m=\u001b[39mb_2))\n",
      "File \u001b[1;32me:\\REMOTE\\YandexDisk\\MPEI\\DIP\\part 2\\split\\API\\Stage.py:769\u001b[0m, in \u001b[0;36mStage.__calculate_losses\u001b[1;34m(self, type, b)\u001b[0m\n\u001b[0;32m    764\u001b[0m \u001b[39m'''\u001b[39;00m\n\u001b[0;32m    765\u001b[0m \u001b[39mРасчет потерь\u001b[39;00m\n\u001b[0;32m    766\u001b[0m \u001b[39m'''\u001b[39;00m\n\u001b[0;32m    768\u001b[0m \u001b[39mif\u001b[39;00m (\u001b[39mtype\u001b[39m \u001b[39m==\u001b[39m \u001b[39m'\u001b[39m\u001b[39ms\u001b[39m\u001b[39m'\u001b[39m):\n\u001b[1;32m--> 769\u001b[0m     \u001b[39mself\u001b[39m\u001b[39m.\u001b[39m__xi_sprof, \u001b[39mself\u001b[39m\u001b[39m.\u001b[39m__xi_ssec, \u001b[39mself\u001b[39m\u001b[39m.\u001b[39m__xi_sann \u001b[39m=\u001b[39m calculate_losses(\n\u001b[0;32m    770\u001b[0m         inlet_angle \u001b[39m=\u001b[39;49m \u001b[39mself\u001b[39;49m\u001b[39m.\u001b[39;49m__alpha_0,\n\u001b[0;32m    771\u001b[0m         outlet_angle \u001b[39m=\u001b[39;49m \u001b[39mself\u001b[39;49m\u001b[39m.\u001b[39;49m__alpha_1,\n\u001b[0;32m    772\u001b[0m         blade_inlet_angle \u001b[39m=\u001b[39;49m \u001b[39mself\u001b[39;49m\u001b[39m.\u001b[39;49m__alpha_0 \u001b[39m-\u001b[39;49m \u001b[39m5\u001b[39;49m,\n\u001b[0;32m    773\u001b[0m         design_inc \u001b[39m=\u001b[39;49m \u001b[39m0\u001b[39;49m,\n\u001b[0;32m    774\u001b[0m         axial_chord \u001b[39m=\u001b[39;49m \u001b[39mself\u001b[39;49m\u001b[39m.\u001b[39;49m__B_1,\n\u001b[0;32m    775\u001b[0m         throat \u001b[39m=\u001b[39;49m \u001b[39mself\u001b[39;49m\u001b[39m.\u001b[39;49m__throat_1,\n\u001b[0;32m    776\u001b[0m         pitch \u001b[39m=\u001b[39;49m \u001b[39mself\u001b[39;49m\u001b[39m.\u001b[39;49m__t_1,\n\u001b[0;32m    777\u001b[0m         te_radius \u001b[39m=\u001b[39;49m \u001b[39mself\u001b[39;49m\u001b[39m.\u001b[39;49m__R_edge_out_1,\n\u001b[0;32m    778\u001b[0m         chord \u001b[39m=\u001b[39;49m b,\n\u001b[0;32m    779\u001b[0m         height \u001b[39m=\u001b[39;49m \u001b[39mself\u001b[39;49m\u001b[39m.\u001b[39;49m__l_1,\n\u001b[0;32m    780\u001b[0m         nu \u001b[39m=\u001b[39;49m (\u001b[39mself\u001b[39;49m\u001b[39m.\u001b[39;49m__Point_0\u001b[39m.\u001b[39;49mkv(\u001b[39m0\u001b[39;49m) \u001b[39m+\u001b[39;49m \u001b[39mself\u001b[39;49m\u001b[39m.\u001b[39;49m__Point_1t\u001b[39m.\u001b[39;49mkv(\u001b[39m0\u001b[39;49m))\u001b[39m/\u001b[39;49m\u001b[39m2\u001b[39;49m,\n\u001b[0;32m    781\u001b[0m         ks \u001b[39m=\u001b[39;49m \u001b[39m1e-5\u001b[39;49m,\n\u001b[0;32m    782\u001b[0m         w1 \u001b[39m=\u001b[39;49m \u001b[39mself\u001b[39;49m\u001b[39m.\u001b[39;49m__c_0,\n\u001b[0;32m    783\u001b[0m         w2 \u001b[39m=\u001b[39;49m \u001b[39mself\u001b[39;49m\u001b[39m.\u001b[39;49m__c_1\n\u001b[0;32m    784\u001b[0m     )\n\u001b[0;32m    785\u001b[0m     \u001b[39mself\u001b[39m\u001b[39m.\u001b[39m__xi_sann \u001b[39m=\u001b[39m \u001b[39mself\u001b[39m\u001b[39m.\u001b[39m__xi_ssec \u001b[39m-\u001b[39m \u001b[39mself\u001b[39m\u001b[39m.\u001b[39m__xi_sprof\n\u001b[0;32m    787\u001b[0m     \u001b[39mreturn\u001b[39;00m \u001b[39mself\u001b[39m\u001b[39m.\u001b[39m__xi_ssec\n",
      "File \u001b[1;32me:\\REMOTE\\YandexDisk\\MPEI\\DIP\\part 2\\split\\API\\losses.py:325\u001b[0m, in \u001b[0;36mcalculate_losses\u001b[1;34m(inlet_angle, outlet_angle, blade_inlet_angle, design_inc, axial_chord, throat, pitch, te_radius, chord, height, nu, ks, w1, w2)\u001b[0m\n\u001b[0;32m    309\u001b[0m \u001b[39m'''\u001b[39;00m\n\u001b[0;32m    310\u001b[0m \u001b[39minlet_angle - угол входа потока\u001b[39;00m\n\u001b[0;32m    311\u001b[0m \u001b[39moutlet_angle - угол выхода потока\u001b[39;00m\n\u001b[1;32m   (...)\u001b[0m\n\u001b[0;32m    322\u001b[0m \u001b[39mw1, w2 - скорсоти\u001b[39;00m\n\u001b[0;32m    323\u001b[0m \u001b[39m'''\u001b[39;00m\n\u001b[0;32m    324\u001b[0m s_l \u001b[39m=\u001b[39m calculate_suction_length(inlet_angle, outlet_angle, axial_chord, throat, pitch)\n\u001b[1;32m--> 325\u001b[0m npi \u001b[39m=\u001b[39m Npi(inlet_angle, outlet_angle, blade_inlet_angle, design_inc, pitch, s_l, throat)\n\u001b[0;32m    326\u001b[0m Re \u001b[39m=\u001b[39m w2 \u001b[39m*\u001b[39m throat \u001b[39m/\u001b[39m nu\n\u001b[0;32m    327\u001b[0m npr \u001b[39m=\u001b[39m Npr(Re, ks, s_l)\n",
      "File \u001b[1;32me:\\REMOTE\\YandexDisk\\MPEI\\DIP\\part 2\\split\\API\\losses.py:227\u001b[0m, in \u001b[0;36mNpi\u001b[1;34m(inlet_angle, outlet_angle, blade_inlet_angle, design_inc, pitch, width, throat)\u001b[0m\n\u001b[0;32m    226\u001b[0m \u001b[39mdef\u001b[39;00m \u001b[39mNpi\u001b[39m(inlet_angle, outlet_angle, blade_inlet_angle, design_inc, pitch, width, throat):\n\u001b[1;32m--> 227\u001b[0m     plus_inc_i_stall_pitch_width \u001b[39m=\u001b[39m PW_inc_positive(pitch, width, throat)\n\u001b[0;32m    228\u001b[0m     plus_inc__i_stall_cr \u001b[39m=\u001b[39m CR_inc(inlet_angle, outlet_angle, pitch, width, throat)\n\u001b[0;32m    229\u001b[0m     minus_inc_i_stall_pitch_width \u001b[39m=\u001b[39m PW_inc_negative(pitch, width, throat)\n",
      "File \u001b[1;32me:\\REMOTE\\YandexDisk\\MPEI\\DIP\\part 2\\split\\API\\losses.py:131\u001b[0m, in \u001b[0;36mPW_inc_positive\u001b[1;34m(pitch, width, throat)\u001b[0m\n\u001b[0;32m    125\u001b[0m exit_angle_range \u001b[39m=\u001b[39m np\u001b[39m.\u001b[39marange(\u001b[39m30\u001b[39m, \u001b[39m75\u001b[39m, \u001b[39m10\u001b[39m)\n\u001b[0;32m    126\u001b[0m PW_inc_coeff \u001b[39m=\u001b[39m np\u001b[39m.\u001b[39marray([[\u001b[39m20.5\u001b[39m, \u001b[39m18.5\u001b[39m, \u001b[39m7.5\u001b[39m, \u001b[39m-\u001b[39m\u001b[39m8\u001b[39m, \u001b[39m-\u001b[39m\u001b[39m18\u001b[39m, \u001b[39m-\u001b[39m\u001b[39m23\u001b[39m, \u001b[39m-\u001b[39m\u001b[39m25.5\u001b[39m, \u001b[39m-\u001b[39m\u001b[39m24\u001b[39m],\n\u001b[0;32m    127\u001b[0m                          [\u001b[39m15.5\u001b[39m, \u001b[39m14\u001b[39m, \u001b[39m5\u001b[39m, \u001b[39m-\u001b[39m\u001b[39m5.5\u001b[39m, \u001b[39m-\u001b[39m\u001b[39m14.5\u001b[39m, \u001b[39m-\u001b[39m\u001b[39m20.5\u001b[39m, \u001b[39m-\u001b[39m\u001b[39m22.5\u001b[39m, \u001b[39m-\u001b[39m\u001b[39m20\u001b[39m],\n\u001b[0;32m    128\u001b[0m                          [\u001b[39m10\u001b[39m, \u001b[39m9.5\u001b[39m, \u001b[39m4\u001b[39m, \u001b[39m-\u001b[39m\u001b[39m5\u001b[39m, \u001b[39m-\u001b[39m\u001b[39m11.5\u001b[39m, \u001b[39m-\u001b[39m\u001b[39m17.5\u001b[39m, \u001b[39m-\u001b[39m\u001b[39m19.5\u001b[39m, \u001b[39m-\u001b[39m\u001b[39m14.5\u001b[39m],\n\u001b[0;32m    129\u001b[0m                          [\u001b[39m7\u001b[39m, \u001b[39m6.5\u001b[39m, \u001b[39m3\u001b[39m, \u001b[39m-\u001b[39m\u001b[39m4\u001b[39m, \u001b[39m-\u001b[39m\u001b[39m9\u001b[39m, \u001b[39m-\u001b[39m\u001b[39m14\u001b[39m, \u001b[39m-\u001b[39m\u001b[39m15\u001b[39m, \u001b[39m-\u001b[39m\u001b[39m10\u001b[39m],\n\u001b[0;32m    130\u001b[0m                          [\u001b[39m4\u001b[39m, \u001b[39m4\u001b[39m, \u001b[39m2\u001b[39m, \u001b[39m-\u001b[39m\u001b[39m2.5\u001b[39m, \u001b[39m-\u001b[39m\u001b[39m6.5\u001b[39m, \u001b[39m-\u001b[39m\u001b[39m10.5\u001b[39m, \u001b[39m-\u001b[39m\u001b[39m11\u001b[39m, \u001b[39m-\u001b[39m\u001b[39m5\u001b[39m]])\n\u001b[1;32m--> 131\u001b[0m f1 \u001b[39m=\u001b[39m [interp1d(PW_range, i, fill_value\u001b[39m=\u001b[39m\u001b[39m'\u001b[39m\u001b[39mextrapolate\u001b[39m\u001b[39m'\u001b[39m) \u001b[39mfor\u001b[39;00m i \u001b[39min\u001b[39;00m PW_inc_coeff]\n\u001b[0;32m    132\u001b[0m y1 \u001b[39m=\u001b[39m [func(pitch \u001b[39m/\u001b[39m width) \u001b[39mfor\u001b[39;00m func \u001b[39min\u001b[39;00m f1]\n\u001b[0;32m    133\u001b[0m exit_angle_val \u001b[39m=\u001b[39m math\u001b[39m.\u001b[39mdegrees(math\u001b[39m.\u001b[39masin(throat \u001b[39m/\u001b[39m pitch))\n",
      "File \u001b[1;32me:\\REMOTE\\YandexDisk\\MPEI\\DIP\\part 2\\split\\API\\losses.py:131\u001b[0m, in \u001b[0;36m<listcomp>\u001b[1;34m(.0)\u001b[0m\n\u001b[0;32m    125\u001b[0m exit_angle_range \u001b[39m=\u001b[39m np\u001b[39m.\u001b[39marange(\u001b[39m30\u001b[39m, \u001b[39m75\u001b[39m, \u001b[39m10\u001b[39m)\n\u001b[0;32m    126\u001b[0m PW_inc_coeff \u001b[39m=\u001b[39m np\u001b[39m.\u001b[39marray([[\u001b[39m20.5\u001b[39m, \u001b[39m18.5\u001b[39m, \u001b[39m7.5\u001b[39m, \u001b[39m-\u001b[39m\u001b[39m8\u001b[39m, \u001b[39m-\u001b[39m\u001b[39m18\u001b[39m, \u001b[39m-\u001b[39m\u001b[39m23\u001b[39m, \u001b[39m-\u001b[39m\u001b[39m25.5\u001b[39m, \u001b[39m-\u001b[39m\u001b[39m24\u001b[39m],\n\u001b[0;32m    127\u001b[0m                          [\u001b[39m15.5\u001b[39m, \u001b[39m14\u001b[39m, \u001b[39m5\u001b[39m, \u001b[39m-\u001b[39m\u001b[39m5.5\u001b[39m, \u001b[39m-\u001b[39m\u001b[39m14.5\u001b[39m, \u001b[39m-\u001b[39m\u001b[39m20.5\u001b[39m, \u001b[39m-\u001b[39m\u001b[39m22.5\u001b[39m, \u001b[39m-\u001b[39m\u001b[39m20\u001b[39m],\n\u001b[0;32m    128\u001b[0m                          [\u001b[39m10\u001b[39m, \u001b[39m9.5\u001b[39m, \u001b[39m4\u001b[39m, \u001b[39m-\u001b[39m\u001b[39m5\u001b[39m, \u001b[39m-\u001b[39m\u001b[39m11.5\u001b[39m, \u001b[39m-\u001b[39m\u001b[39m17.5\u001b[39m, \u001b[39m-\u001b[39m\u001b[39m19.5\u001b[39m, \u001b[39m-\u001b[39m\u001b[39m14.5\u001b[39m],\n\u001b[0;32m    129\u001b[0m                          [\u001b[39m7\u001b[39m, \u001b[39m6.5\u001b[39m, \u001b[39m3\u001b[39m, \u001b[39m-\u001b[39m\u001b[39m4\u001b[39m, \u001b[39m-\u001b[39m\u001b[39m9\u001b[39m, \u001b[39m-\u001b[39m\u001b[39m14\u001b[39m, \u001b[39m-\u001b[39m\u001b[39m15\u001b[39m, \u001b[39m-\u001b[39m\u001b[39m10\u001b[39m],\n\u001b[0;32m    130\u001b[0m                          [\u001b[39m4\u001b[39m, \u001b[39m4\u001b[39m, \u001b[39m2\u001b[39m, \u001b[39m-\u001b[39m\u001b[39m2.5\u001b[39m, \u001b[39m-\u001b[39m\u001b[39m6.5\u001b[39m, \u001b[39m-\u001b[39m\u001b[39m10.5\u001b[39m, \u001b[39m-\u001b[39m\u001b[39m11\u001b[39m, \u001b[39m-\u001b[39m\u001b[39m5\u001b[39m]])\n\u001b[1;32m--> 131\u001b[0m f1 \u001b[39m=\u001b[39m [interp1d(PW_range, i, fill_value\u001b[39m=\u001b[39;49m\u001b[39m'\u001b[39;49m\u001b[39mextrapolate\u001b[39;49m\u001b[39m'\u001b[39;49m) \u001b[39mfor\u001b[39;00m i \u001b[39min\u001b[39;00m PW_inc_coeff]\n\u001b[0;32m    132\u001b[0m y1 \u001b[39m=\u001b[39m [func(pitch \u001b[39m/\u001b[39m width) \u001b[39mfor\u001b[39;00m func \u001b[39min\u001b[39;00m f1]\n\u001b[0;32m    133\u001b[0m exit_angle_val \u001b[39m=\u001b[39m math\u001b[39m.\u001b[39mdegrees(math\u001b[39m.\u001b[39masin(throat \u001b[39m/\u001b[39m pitch))\n",
      "File \u001b[1;32mc:\\prog\\py\\lib\\site-packages\\scipy\\interpolate\\_interpolate.py:466\u001b[0m, in \u001b[0;36minterp1d.__init__\u001b[1;34m(self, x, y, kind, axis, copy, bounds_error, fill_value, assume_sorted)\u001b[0m\n\u001b[0;32m    463\u001b[0m y \u001b[39m=\u001b[39m array(y, copy\u001b[39m=\u001b[39m\u001b[39mself\u001b[39m\u001b[39m.\u001b[39mcopy)\n\u001b[0;32m    465\u001b[0m \u001b[39mif\u001b[39;00m \u001b[39mnot\u001b[39;00m assume_sorted:\n\u001b[1;32m--> 466\u001b[0m     ind \u001b[39m=\u001b[39m np\u001b[39m.\u001b[39;49margsort(x, kind\u001b[39m=\u001b[39;49m\u001b[39m\"\u001b[39;49m\u001b[39mmergesort\u001b[39;49m\u001b[39m\"\u001b[39;49m)\n\u001b[0;32m    467\u001b[0m     x \u001b[39m=\u001b[39m x[ind]\n\u001b[0;32m    468\u001b[0m     y \u001b[39m=\u001b[39m np\u001b[39m.\u001b[39mtake(y, ind, axis\u001b[39m=\u001b[39maxis)\n",
      "File \u001b[1;32m<__array_function__ internals>:200\u001b[0m, in \u001b[0;36margsort\u001b[1;34m(*args, **kwargs)\u001b[0m\n",
      "File \u001b[1;32mc:\\prog\\py\\lib\\site-packages\\numpy\\core\\fromnumeric.py:1146\u001b[0m, in \u001b[0;36margsort\u001b[1;34m(a, axis, kind, order)\u001b[0m\n\u001b[0;32m   1038\u001b[0m \u001b[39m@array_function_dispatch\u001b[39m(_argsort_dispatcher)\n\u001b[0;32m   1039\u001b[0m \u001b[39mdef\u001b[39;00m \u001b[39margsort\u001b[39m(a, axis\u001b[39m=\u001b[39m\u001b[39m-\u001b[39m\u001b[39m1\u001b[39m, kind\u001b[39m=\u001b[39m\u001b[39mNone\u001b[39;00m, order\u001b[39m=\u001b[39m\u001b[39mNone\u001b[39;00m):\n\u001b[0;32m   1040\u001b[0m     \u001b[39m\"\"\"\u001b[39;00m\n\u001b[0;32m   1041\u001b[0m \u001b[39m    Returns the indices that would sort an array.\u001b[39;00m\n\u001b[0;32m   1042\u001b[0m \n\u001b[1;32m   (...)\u001b[0m\n\u001b[0;32m   1144\u001b[0m \n\u001b[0;32m   1145\u001b[0m \u001b[39m    \"\"\"\u001b[39;00m\n\u001b[1;32m-> 1146\u001b[0m     \u001b[39mreturn\u001b[39;00m _wrapfunc(a, \u001b[39m'\u001b[39;49m\u001b[39margsort\u001b[39;49m\u001b[39m'\u001b[39;49m, axis\u001b[39m=\u001b[39;49maxis, kind\u001b[39m=\u001b[39;49mkind, order\u001b[39m=\u001b[39;49morder)\n",
      "File \u001b[1;32mc:\\prog\\py\\lib\\site-packages\\numpy\\core\\fromnumeric.py:57\u001b[0m, in \u001b[0;36m_wrapfunc\u001b[1;34m(obj, method, *args, **kwds)\u001b[0m\n\u001b[0;32m     54\u001b[0m     \u001b[39mreturn\u001b[39;00m _wrapit(obj, method, \u001b[39m*\u001b[39margs, \u001b[39m*\u001b[39m\u001b[39m*\u001b[39mkwds)\n\u001b[0;32m     56\u001b[0m \u001b[39mtry\u001b[39;00m:\n\u001b[1;32m---> 57\u001b[0m     \u001b[39mreturn\u001b[39;00m bound(\u001b[39m*\u001b[39margs, \u001b[39m*\u001b[39m\u001b[39m*\u001b[39mkwds)\n\u001b[0;32m     58\u001b[0m \u001b[39mexcept\u001b[39;00m \u001b[39mTypeError\u001b[39;00m:\n\u001b[0;32m     59\u001b[0m     \u001b[39m# A TypeError occurs if the object does have such a method in its\u001b[39;00m\n\u001b[0;32m     60\u001b[0m     \u001b[39m# class, but its signature is not identical to that of NumPy's. This\u001b[39;00m\n\u001b[1;32m   (...)\u001b[0m\n\u001b[0;32m     64\u001b[0m     \u001b[39m# Call _wrapit from within the except clause to ensure a potential\u001b[39;00m\n\u001b[0;32m     65\u001b[0m     \u001b[39m# exception has a traceback chain.\u001b[39;00m\n\u001b[0;32m     66\u001b[0m     \u001b[39mreturn\u001b[39;00m _wrapit(obj, method, \u001b[39m*\u001b[39margs, \u001b[39m*\u001b[39m\u001b[39m*\u001b[39mkwds)\n",
      "\u001b[1;31mKeyboardInterrupt\u001b[0m: "
     ]
    }
   ],
   "source": [
    "itaration:int = 0\n",
    "\n",
    "\n",
    "print_wid()\n",
    "with tqdm(total = number_of_rows, desc = 'Processing') as pbar:\n",
    "    for p_i, t_i, H_i, reaction_i, d_hub_i, n_i, alpha_1_i, G_0_i in tqdm(product(*input_parameters_arange)):\n",
    "        stage = Stage(\n",
    "            # main iterable parameters\n",
    "            p_0 = p_i,\n",
    "            t_0 = t_i,\n",
    "            G_0 = G_0_i,\n",
    "            d_hub = d_hub_i,\n",
    "            n = n_i,\n",
    "            reaction = reaction_i,\n",
    "            alpha_1eef = alpha_1_i,\n",
    "            H_0 = H_i,\n",
    "\n",
    "            # other\n",
    "            c_0 = np.sqrt(2000 * 0.05 * H_i),\n",
    "            alpha_0 = 90,\n",
    "            Delta_pr = 0.003,\n",
    "        )\n",
    "\n",
    "        # Save input parameters\n",
    "        save_input_parameters_list[0][itaration] = p_i\n",
    "        save_input_parameters_list[1][itaration] = t_i\n",
    "        save_input_parameters_list[2][itaration] = H_i\n",
    "        save_input_parameters_list[3][itaration] = reaction_i\n",
    "        save_input_parameters_list[4][itaration] = d_hub_i\n",
    "        save_input_parameters_list[5][itaration] = n_i\n",
    "        save_input_parameters_list[6][itaration] = alpha_1_i\n",
    "        save_input_parameters_list[7][itaration] = G_0_i\n",
    "\n",
    "        set_widgets_value([\n",
    "            p_i, \n",
    "            t_i,\n",
    "            H_i,\n",
    "            reaction_i,\n",
    "            d_hub_i,\n",
    "            n_i,\n",
    "            alpha_1_i,\n",
    "            G_0_i])\n",
    "        \n",
    "        \n",
    "        # Save output parameters\n",
    "        save_output_parameters_list[0][itaration] = stage.isOK()\n",
    "        save_output_parameters_list[1][itaration] = stage.get_results()['eff_ol']\n",
    "        save_output_parameters_list[2][itaration] = stage.get_results()['Nu']\n",
    "        save_output_parameters_list[3][itaration] = stage.get_results()['l_1']\n",
    "\n",
    "        itaration += 1\n",
    "        pbar.update(1)\n",
    "        pbar.set_description(f\"PROGRESS\")\n",
    "        \n",
    "\n",
    "\n",
    "# pbar.finish()"
   ]
  },
  {
   "cell_type": "code",
   "execution_count": null,
   "metadata": {},
   "outputs": [],
   "source": []
  },
  {
   "cell_type": "code",
   "execution_count": null,
   "metadata": {},
   "outputs": [],
   "source": []
  }
 ],
 "metadata": {
  "kernelspec": {
   "display_name": "Python 3",
   "language": "python",
   "name": "python3"
  },
  "language_info": {
   "codemirror_mode": {
    "name": "ipython",
    "version": 3
   },
   "file_extension": ".py",
   "mimetype": "text/x-python",
   "name": "python",
   "nbconvert_exporter": "python",
   "pygments_lexer": "ipython3",
   "version": "3.10.6"
  },
  "orig_nbformat": 4
 },
 "nbformat": 4,
 "nbformat_minor": 2
}
