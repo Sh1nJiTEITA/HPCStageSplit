{
 "cells": [
  {
   "cell_type": "code",
   "execution_count": 1,
   "metadata": {},
   "outputs": [
    {
     "name": "stdout",
     "output_type": "stream",
     "text": [
      "c:\\Users\\Мотя2\\YandexDisk\\МЭИ\\ДИПЛОМ\\Часть №2\\Разбивка\n",
      "API loaded\n"
     ]
    }
   ],
   "source": [
    "%cd ..\n",
    "from API import HPC_SPLIT_2, HPC_SPLIT_RANGES"
   ]
  },
  {
   "cell_type": "code",
   "execution_count": 2,
   "metadata": {},
   "outputs": [
    {
     "name": "stderr",
     "output_type": "stream",
     "text": [
      "C:\\Users\\Мотя2\\AppData\\Roaming\\Python\\Python311\\site-packages\\numpy\\core\\numeric.py:341: UnitStrippedWarning: The unit of the quantity is stripped when downcasting to ndarray.\n",
      "  fill_value = asarray(fill_value)\n"
     ]
    }
   ],
   "source": [
    "from itertools import product\n",
    "from pint import Quantity as Q\n",
    "# a = [1,2,3,4,5,6]\n",
    "# b = ['a','b','c','d']\n",
    "\n",
    "# for it, thing in enumerate(product(a,b)):\n",
    "#     print(it, \" \", thing)\n",
    "\n",
    "pd = HPC_SPLIT_RANGES(\n",
    "    fp_0=Q(8.73,'MPa'),\n",
    "    fh_0=Q(3563.4,'kJ/kg'),\n",
    "    G_0 =Q(38.88,'kg/s'),\n",
    "    p_z =Q(1.8, 'MPa'),\n",
    "    etaHPC_oi=0.846,\n",
    "    n   =Q(95, '1/s'),\n",
    "    d_1_range=Q([0.6,0.9,0.001],'m'),\n",
    "    ID = 1,\n",
    "    isSectionFirst=True\n",
    ")\n"
   ]
  },
  {
   "cell_type": "code",
   "execution_count": 4,
   "metadata": {},
   "outputs": [
    {
     "name": "stdout",
     "output_type": "stream",
     "text": [
      "        n  d_1  alpha_1eef  rho_k    Z     Z_new   Z_ratio       q_t  \\\n",
      "0      95  0.6         9.0   0.03  7.0  7.675925  1.096561  0.004100   \n",
      "1      95  0.6         9.0   0.04  7.0  7.768680  1.109811  0.004051   \n",
      "2      95  0.6         9.0   0.05  7.0  7.863905  1.123415  0.004001   \n",
      "3      95  0.6         9.0   0.06  7.0  7.961706  1.137387  0.003952   \n",
      "4      95  0.6         9.0   0.07  8.0  8.070546  1.008818  0.003980   \n",
      "...    ..  ...         ...    ...  ...       ...       ...       ...   \n",
      "16550  95  0.9        19.0   0.03  2.0  2.963367  1.481683  0.006208   \n",
      "16551  95  0.9        19.0   0.04  3.0  3.026835  1.008945  0.008119   \n",
      "16552  95  0.9        19.0   0.05  3.0  3.059474  1.019825  0.008032   \n",
      "16553  95  0.9        19.0   0.06  3.0  3.092843  1.030948  0.007944   \n",
      "16554  95  0.9        19.0   0.07  3.0  3.126969  1.042323  0.007857   \n",
      "\n",
      "         Delta_H      l_11    d_next  ID  isOK  \n",
      "0       6.248192  0.019180  0.650386   1   1.0  \n",
      "1       7.020425  0.019370  0.650896   1   1.0  \n",
      "2       7.794198  0.019565  0.651416   1   1.0  \n",
      "3       8.569564  0.019764  0.651949   1   1.0  \n",
      "4       0.542637  0.019969  0.651422   1   1.0  \n",
      "...          ...       ...       ...  ..   ...  \n",
      "16550  80.904269  0.004755  0.922525   1   1.0  \n",
      "16551   1.473690  0.004785  0.917078   1   1.0  \n",
      "16552   3.231010  0.004816  0.917264   1   1.0  \n",
      "16553   4.989021  0.004847  0.917453   1   1.0  \n",
      "16554   6.747739  0.004879  0.917645   1   1.0  \n",
      "\n",
      "[16555 rows x 13 columns]\n"
     ]
    }
   ],
   "source": [
    "pd.to_csv('splits_11.csv')\n",
    "print(pd)"
   ]
  },
  {
   "cell_type": "code",
   "execution_count": null,
   "metadata": {},
   "outputs": [],
   "source": []
  }
 ],
 "metadata": {
  "kernelspec": {
   "display_name": "Python 3",
   "language": "python",
   "name": "python3"
  },
  "language_info": {
   "codemirror_mode": {
    "name": "ipython",
    "version": 3
   },
   "file_extension": ".py",
   "mimetype": "text/x-python",
   "name": "python",
   "nbconvert_exporter": "python",
   "pygments_lexer": "ipython3",
   "version": "3.11.0"
  },
  "orig_nbformat": 4
 },
 "nbformat": 4,
 "nbformat_minor": 2
}
