{
 "cells": [
  {
   "cell_type": "code",
   "execution_count": 219,
   "metadata": {},
   "outputs": [],
   "source": [
    "\n",
    "import pint \n",
    "un = pint.UnitRegistry()\n",
    "un.define('RUB = [currency]')\n",
    "un.define('rub = 1 * RUB')\n",
    "un.define('Mrub = 1_000_000 * RUB')\n",
    "Q = un.Quantity"
   ]
  },
  {
   "cell_type": "code",
   "execution_count": 220,
   "metadata": {},
   "outputs": [
    {
     "data": {
      "text/html": [
       "8.380643417139769 kilogram/second"
      ],
      "text/latex": [
       "$8.380643417139769\\ \\frac{\\mathrm{kilogram}}{\\mathrm{second}}$"
      ],
      "text/plain": [
       "8.380643417139769 <Unit('kilogram / second')>"
      ]
     },
     "execution_count": 220,
     "metadata": {},
     "output_type": "execute_result"
    }
   ],
   "source": [
    "# нач данные\n",
    "# Электрическая мощность ПГУ\n",
    "N_elec_PGU = Q(176.91, 'MW')\n",
    "# Среднегодовое значание количества часов использования уста. мощн\n",
    "h_y = Q(7000, 'hours')\n",
    "# Срок службы паровой турбины\n",
    "T = Q(40, 'years')\n",
    "\n",
    "# Низшая теплота сгорания\n",
    "Q_np = Q(36, 'MJ/kg')\n",
    "\n",
    "# Теплота сгорания условного топлива \n",
    "Q_ut = Q(29.3, 'MJ/kg')\n",
    "\n",
    "# КПД ГТУ\n",
    "eta_elec_GTU = 0.411\n",
    "# КПД ПГУ\n",
    "eta_elec_PGU = 0.586\n",
    "\n",
    "# МОЩНОСТЬ ГТУ\n",
    "N_elec_GTU = Q(62, 'MW')\n",
    "\n",
    "\n",
    "# Расход топлива двух ГТУ\n",
    "B = N_elec_GTU / eta_elec_GTU / Q_np * 2\n",
    "B.ito('kg/s')\n",
    "B"
   ]
  },
  {
   "cell_type": "code",
   "execution_count": 221,
   "metadata": {},
   "outputs": [
    {
     "data": {
      "text/html": [
       "1238370.0 hour megawatt"
      ],
      "text/latex": [
       "$1238370.0\\ \\mathrm{hour} \\cdot \\mathrm{megawatt}$"
      ],
      "text/plain": [
       "1238370.0 <Unit('hour * megawatt')>"
      ]
     },
     "execution_count": 221,
     "metadata": {},
     "output_type": "execute_result"
    }
   ],
   "source": [
    "# Среднегодовая выработка электроэнергии\n",
    "EE_G_PGU = N_elec_PGU * h_y\n",
    "EE_G_PGU.ito('MW * hour')\n",
    "EE_G_PGU"
   ]
  },
  {
   "cell_type": "code",
   "execution_count": 222,
   "metadata": {},
   "outputs": [],
   "source": [
    "# затраты на нужды проекта\n",
    "xi_NP = 0.05\n",
    "\n",
    "# Годовой отпуск электроэнергии\n",
    "EE_GO_PGU = EE_G_PGU * (1 - xi_NP)"
   ]
  },
  {
   "cell_type": "code",
   "execution_count": 223,
   "metadata": {},
   "outputs": [],
   "source": [
    "## 1\n",
    "# Удеальный расход условного топлива\n",
    "b_ut1 = B * Q_np / Q_ut / N_elec_PGU\n",
    "\n",
    "b_ut3 = B.m * Q_np.m / Q_ut.m / N_elec_PGU.m * 3600 / 1000\n",
    "\n",
    "b_ut2 = 0.123 / eta_elec_PGU\n",
    "b_ut1.ito('kg/kW/hour')\n",
    "b_ut1, b_ut2, b_ut3\n",
    "\n",
    "b_ut = b_ut1"
   ]
  },
  {
   "cell_type": "code",
   "execution_count": 235,
   "metadata": {},
   "outputs": [
    {
     "data": {
      "text/plain": [
       "(4.0 <Unit('rub / meter ** 3')>,\n",
       " 259485.31426720816 <Unit('kilogram * megawatt / kilowatt')>)"
      ]
     },
     "execution_count": 235,
     "metadata": {},
     "output_type": "execute_result"
    }
   ],
   "source": [
    "\n",
    "# Расход условного топлива\n",
    "B_ut = b_ut * EE_G_PGU\n",
    "CE_T = 4 * un.rub / un.m**3\n",
    "CE_T, B_ut"
   ]
  },
  {
   "cell_type": "code",
   "execution_count": 232,
   "metadata": {},
   "outputs": [
    {
     "ename": "DimensionalityError",
     "evalue": "Cannot convert from 'kilogram * megawatt * rub / kilowatt / meter ** 3' ([currency] * [mass] / [length] ** 3) to 'Mrub' ([currency])",
     "output_type": "error",
     "traceback": [
      "\u001b[1;31m---------------------------------------------------------------------------\u001b[0m",
      "\u001b[1;31mDimensionalityError\u001b[0m                       Traceback (most recent call last)",
      "\u001b[1;32me:\\REMOTE\\YandexDisk\\MPEI\\DIP\\part 2\\split\\econimics\\econimics.ipynb Cell 7\u001b[0m in \u001b[0;36m<cell line: 4>\u001b[1;34m()\u001b[0m\n\u001b[0;32m      <a href='vscode-notebook-cell:/e%3A/REMOTE/YandexDisk/MPEI/DIP/part%202/split/econimics/econimics.ipynb#W6sZmlsZQ%3D%3D?line=1'>2</a>\u001b[0m alpha_p \u001b[39m=\u001b[39m \u001b[39m0\u001b[39m \u001b[39m# для топлива\u001b[39;00m\n\u001b[0;32m      <a href='vscode-notebook-cell:/e%3A/REMOTE/YandexDisk/MPEI/DIP/part%202/split/econimics/econimics.ipynb#W6sZmlsZQ%3D%3D?line=2'>3</a>\u001b[0m Z_T \u001b[39m=\u001b[39m B_ut \u001b[39m*\u001b[39m Q_ut \u001b[39m/\u001b[39m Q_np \u001b[39m*\u001b[39m CE_T \u001b[39m*\u001b[39m (\u001b[39m1\u001b[39m \u001b[39m+\u001b[39m alpha_p)\n\u001b[1;32m----> <a href='vscode-notebook-cell:/e%3A/REMOTE/YandexDisk/MPEI/DIP/part%202/split/econimics/econimics.ipynb#W6sZmlsZQ%3D%3D?line=3'>4</a>\u001b[0m Z_T\u001b[39m.\u001b[39;49mito(\u001b[39m'\u001b[39;49m\u001b[39mMrub\u001b[39;49m\u001b[39m'\u001b[39;49m)\n",
      "File \u001b[1;32mc:\\prog\\py\\lib\\site-packages\\pint\\facets\\plain\\quantity.py:499\u001b[0m, in \u001b[0;36mPlainQuantity.ito\u001b[1;34m(self, other, *contexts, **ctx_kwargs)\u001b[0m\n\u001b[0;32m    486\u001b[0m \u001b[39m\"\"\"Inplace rescale to different units.\u001b[39;00m\n\u001b[0;32m    487\u001b[0m \n\u001b[0;32m    488\u001b[0m \u001b[39mParameters\u001b[39;00m\n\u001b[1;32m   (...)\u001b[0m\n\u001b[0;32m    495\u001b[0m \u001b[39m    Values for the Context/s\u001b[39;00m\n\u001b[0;32m    496\u001b[0m \u001b[39m\"\"\"\u001b[39;00m\n\u001b[0;32m    497\u001b[0m other \u001b[39m=\u001b[39m to_units_container(other, \u001b[39mself\u001b[39m\u001b[39m.\u001b[39m_REGISTRY)\n\u001b[1;32m--> 499\u001b[0m \u001b[39mself\u001b[39m\u001b[39m.\u001b[39m_magnitude \u001b[39m=\u001b[39m \u001b[39mself\u001b[39m\u001b[39m.\u001b[39m_convert_magnitude(other, \u001b[39m*\u001b[39mcontexts, \u001b[39m*\u001b[39m\u001b[39m*\u001b[39mctx_kwargs)\n\u001b[0;32m    500\u001b[0m \u001b[39mself\u001b[39m\u001b[39m.\u001b[39m_units \u001b[39m=\u001b[39m other\n\u001b[0;32m    502\u001b[0m \u001b[39mreturn\u001b[39;00m \u001b[39mNone\u001b[39;00m\n",
      "File \u001b[1;32mc:\\prog\\py\\lib\\site-packages\\pint\\facets\\plain\\quantity.py:478\u001b[0m, in \u001b[0;36mPlainQuantity._convert_magnitude\u001b[1;34m(self, other, *contexts, **ctx_kwargs)\u001b[0m\n\u001b[0;32m    475\u001b[0m     \u001b[39mwith\u001b[39;00m \u001b[39mself\u001b[39m\u001b[39m.\u001b[39m_REGISTRY\u001b[39m.\u001b[39mcontext(\u001b[39m*\u001b[39mcontexts, \u001b[39m*\u001b[39m\u001b[39m*\u001b[39mctx_kwargs):\n\u001b[0;32m    476\u001b[0m         \u001b[39mreturn\u001b[39;00m \u001b[39mself\u001b[39m\u001b[39m.\u001b[39m_REGISTRY\u001b[39m.\u001b[39mconvert(\u001b[39mself\u001b[39m\u001b[39m.\u001b[39m_magnitude, \u001b[39mself\u001b[39m\u001b[39m.\u001b[39m_units, other)\n\u001b[1;32m--> 478\u001b[0m \u001b[39mreturn\u001b[39;00m \u001b[39mself\u001b[39;49m\u001b[39m.\u001b[39;49m_REGISTRY\u001b[39m.\u001b[39;49mconvert(\n\u001b[0;32m    479\u001b[0m     \u001b[39mself\u001b[39;49m\u001b[39m.\u001b[39;49m_magnitude,\n\u001b[0;32m    480\u001b[0m     \u001b[39mself\u001b[39;49m\u001b[39m.\u001b[39;49m_units,\n\u001b[0;32m    481\u001b[0m     other,\n\u001b[0;32m    482\u001b[0m     inplace\u001b[39m=\u001b[39;49mis_duck_array_type(\u001b[39mtype\u001b[39;49m(\u001b[39mself\u001b[39;49m\u001b[39m.\u001b[39;49m_magnitude)),\n\u001b[0;32m    483\u001b[0m )\n",
      "File \u001b[1;32mc:\\prog\\py\\lib\\site-packages\\pint\\facets\\plain\\registry.py:911\u001b[0m, in \u001b[0;36mPlainRegistry.convert\u001b[1;34m(self, value, src, dst, inplace)\u001b[0m\n\u001b[0;32m    908\u001b[0m \u001b[39mif\u001b[39;00m src \u001b[39m==\u001b[39m dst:\n\u001b[0;32m    909\u001b[0m     \u001b[39mreturn\u001b[39;00m value\n\u001b[1;32m--> 911\u001b[0m \u001b[39mreturn\u001b[39;00m \u001b[39mself\u001b[39;49m\u001b[39m.\u001b[39;49m_convert(value, src, dst, inplace)\n",
      "File \u001b[1;32mc:\\prog\\py\\lib\\site-packages\\pint\\facets\\context\\registry.py:393\u001b[0m, in \u001b[0;36mContextRegistry._convert\u001b[1;34m(self, value, src, dst, inplace)\u001b[0m\n\u001b[0;32m    389\u001b[0m             src \u001b[39m=\u001b[39m \u001b[39mself\u001b[39m\u001b[39m.\u001b[39m_active_ctx\u001b[39m.\u001b[39mtransform(a, b, \u001b[39mself\u001b[39m, src)\n\u001b[0;32m    391\u001b[0m         value, src \u001b[39m=\u001b[39m src\u001b[39m.\u001b[39m_magnitude, src\u001b[39m.\u001b[39m_units\n\u001b[1;32m--> 393\u001b[0m \u001b[39mreturn\u001b[39;00m \u001b[39msuper\u001b[39;49m()\u001b[39m.\u001b[39;49m_convert(value, src, dst, inplace)\n",
      "File \u001b[1;32mc:\\prog\\py\\lib\\site-packages\\pint\\facets\\nonmultiplicative\\registry.py:206\u001b[0m, in \u001b[0;36mNonMultiplicativeRegistry._convert\u001b[1;34m(self, value, src, dst, inplace)\u001b[0m\n\u001b[0;32m    201\u001b[0m     \u001b[39mraise\u001b[39;00m DimensionalityError(\n\u001b[0;32m    202\u001b[0m         src, dst, extra_msg\u001b[39m=\u001b[39m\u001b[39mf\u001b[39m\u001b[39m\"\u001b[39m\u001b[39m - In destination units, \u001b[39m\u001b[39m{\u001b[39;00mex\u001b[39m}\u001b[39;00m\u001b[39m\"\u001b[39m\n\u001b[0;32m    203\u001b[0m     )\n\u001b[0;32m    205\u001b[0m \u001b[39mif\u001b[39;00m \u001b[39mnot\u001b[39;00m (src_offset_unit \u001b[39mor\u001b[39;00m dst_offset_unit):\n\u001b[1;32m--> 206\u001b[0m     \u001b[39mreturn\u001b[39;00m \u001b[39msuper\u001b[39;49m()\u001b[39m.\u001b[39;49m_convert(value, src, dst, inplace)\n\u001b[0;32m    208\u001b[0m src_dim \u001b[39m=\u001b[39m \u001b[39mself\u001b[39m\u001b[39m.\u001b[39m_get_dimensionality(src)\n\u001b[0;32m    209\u001b[0m dst_dim \u001b[39m=\u001b[39m \u001b[39mself\u001b[39m\u001b[39m.\u001b[39m_get_dimensionality(dst)\n",
      "File \u001b[1;32mc:\\prog\\py\\lib\\site-packages\\pint\\facets\\plain\\registry.py:944\u001b[0m, in \u001b[0;36mPlainRegistry._convert\u001b[1;34m(self, value, src, dst, inplace, check_dimensionality)\u001b[0m\n\u001b[0;32m    941\u001b[0m     \u001b[39m# If the source and destination dimensionality are different,\u001b[39;00m\n\u001b[0;32m    942\u001b[0m     \u001b[39m# then the conversion cannot be performed.\u001b[39;00m\n\u001b[0;32m    943\u001b[0m     \u001b[39mif\u001b[39;00m src_dim \u001b[39m!=\u001b[39m dst_dim:\n\u001b[1;32m--> 944\u001b[0m         \u001b[39mraise\u001b[39;00m DimensionalityError(src, dst, src_dim, dst_dim)\n\u001b[0;32m    946\u001b[0m \u001b[39m# Here src and dst have only multiplicative units left. Thus we can\u001b[39;00m\n\u001b[0;32m    947\u001b[0m \u001b[39m# convert with a factor.\u001b[39;00m\n\u001b[0;32m    948\u001b[0m factor, _ \u001b[39m=\u001b[39m \u001b[39mself\u001b[39m\u001b[39m.\u001b[39m_get_root_units(src \u001b[39m/\u001b[39m dst)\n",
      "\u001b[1;31mDimensionalityError\u001b[0m: Cannot convert from 'kilogram * megawatt * rub / kilowatt / meter ** 3' ([currency] * [mass] / [length] ** 3) to 'Mrub' ([currency])"
     ]
    }
   ],
   "source": [
    "# Затраты на топливо\n",
    "alpha_p = 0 # для топлива\n",
    "Z_T = B_ut * Q_ut / Q_np * CE_T * (1 + alpha_p)\n",
    "Z_T.ito('Mrub')"
   ]
  },
  {
   "cell_type": "code",
   "execution_count": 226,
   "metadata": {},
   "outputs": [],
   "source": [
    "# Стоимость оборудования\n",
    "Z_PTU = 700_000_000 * un.rub\n",
    "Z_GTU = 415_000_000 * un.rub\n",
    "Z_GEN = 350_000_000 * un.rub\n",
    "\n",
    "n_PTU = 1 * un('')\n",
    "n_GTU = 2 * un('')\n",
    "n_GEN = 3 * un('')"
   ]
  },
  {
   "cell_type": "code",
   "execution_count": null,
   "metadata": {},
   "outputs": [],
   "source": []
  },
  {
   "cell_type": "code",
   "execution_count": 227,
   "metadata": {},
   "outputs": [
    {
     "data": {
      "text/html": [
       "2580.0 Mrub"
      ],
      "text/latex": [
       "$2580.0\\ \\mathrm{Mrub}$"
      ],
      "text/plain": [
       "2580.0 <Unit('Mrub')>"
      ]
     },
     "execution_count": 227,
     "metadata": {},
     "output_type": "execute_result"
    }
   ],
   "source": [
    "# Норма амортизации ПГУ \n",
    "H_AM = 1/40\n",
    "\n",
    "K_OB = (Z_PTU * n_PTU) + (n_GTU * Z_GTU) + (Z_GEN * n_GEN)\n",
    "K_OB.to('Mrub')"
   ]
  },
  {
   "cell_type": "code",
   "execution_count": 231,
   "metadata": {},
   "outputs": [
    {
     "data": {
      "text/html": [
       "264.5 Mrub"
      ],
      "text/latex": [
       "$264.5\\ \\mathrm{Mrub}$"
      ],
      "text/plain": [
       "264.5 <Unit('Mrub')>"
      ]
     },
     "execution_count": 231,
     "metadata": {},
     "output_type": "execute_result"
    }
   ],
   "source": [
    "# Затраты на маортизацию оборудования\n",
    "Z_AM_ob = H_AM * K_OB\n",
    "# Затраты на строительство ПГУ\n",
    "K_str = 8000 * un('Mrub')\n",
    "# Затраты на маортизацию здания\n",
    "Z_AM_str = K_str * H_AM\n",
    "# Суммарные затраты на амортизацию\n",
    "Z_AM = Z_AM_str + Z_AM_ob\n",
    "Z_AM"
   ]
  },
  {
   "cell_type": "code",
   "execution_count": 229,
   "metadata": {},
   "outputs": [
    {
     "data": {
      "text/html": [
       "273.0 Mrub"
      ],
      "text/latex": [
       "$273.0\\ \\mathrm{Mrub}$"
      ],
      "text/plain": [
       "273.0 <Unit('Mrub')>"
      ]
     },
     "execution_count": 229,
     "metadata": {},
     "output_type": "execute_result"
    }
   ],
   "source": [
    "# 3\n",
    "ZP = 70000 * un.rub\n",
    "N = 250 \n",
    "H_CV = 0.30\n",
    "\n",
    "\n",
    "Z_ZP = 12 * ZP * N * (1 + H_CV)\n",
    "Z_ZP.ito('Mrub')\n",
    "Z_ZP"
   ]
  },
  {
   "cell_type": "code",
   "execution_count": 230,
   "metadata": {},
   "outputs": [
    {
     "ename": "DimensionalityError",
     "evalue": "Cannot convert from 'kilogram * megawatt * rub / kilowatt / meter ** 3' ([currency] * [mass] / [length] ** 3) to 'Mrub' ([currency])",
     "output_type": "error",
     "traceback": [
      "\u001b[1;31m---------------------------------------------------------------------------\u001b[0m",
      "\u001b[1;31mDimensionalityError\u001b[0m                       Traceback (most recent call last)",
      "\u001b[1;32me:\\REMOTE\\YandexDisk\\MPEI\\DIP\\part 2\\split\\econimics\\econimics.ipynb Cell 13\u001b[0m in \u001b[0;36m<cell line: 7>\u001b[1;34m()\u001b[0m\n\u001b[0;32m      <a href='vscode-notebook-cell:/e%3A/REMOTE/YandexDisk/MPEI/DIP/part%202/split/econimics/econimics.ipynb#X15sZmlsZQ%3D%3D?line=4'>5</a>\u001b[0m Z_PR \u001b[39m=\u001b[39m \u001b[39m0.35\u001b[39m \u001b[39m*\u001b[39m Z_AM\n\u001b[0;32m      <a href='vscode-notebook-cell:/e%3A/REMOTE/YandexDisk/MPEI/DIP/part%202/split/econimics/econimics.ipynb#X15sZmlsZQ%3D%3D?line=5'>6</a>\u001b[0m \u001b[39m# Суммарные затраты на производство\u001b[39;00m\n\u001b[1;32m----> <a href='vscode-notebook-cell:/e%3A/REMOTE/YandexDisk/MPEI/DIP/part%202/split/econimics/econimics.ipynb#X15sZmlsZQ%3D%3D?line=6'>7</a>\u001b[0m Z \u001b[39m=\u001b[39m Z_T \u001b[39m+\u001b[39;49m Z_AM \u001b[39m+\u001b[39m Z_ZP \u001b[39m+\u001b[39m Z_rem \u001b[39m+\u001b[39m Z_PR\n\u001b[0;32m      <a href='vscode-notebook-cell:/e%3A/REMOTE/YandexDisk/MPEI/DIP/part%202/split/econimics/econimics.ipynb#X15sZmlsZQ%3D%3D?line=7'>8</a>\u001b[0m Z\n",
      "File \u001b[1;32mc:\\prog\\py\\lib\\site-packages\\pint\\facets\\plain\\quantity.py:960\u001b[0m, in \u001b[0;36mPlainQuantity.__add__\u001b[1;34m(self, other)\u001b[0m\n\u001b[0;32m    958\u001b[0m     \u001b[39mreturn\u001b[39;00m \u001b[39mself\u001b[39m\u001b[39m.\u001b[39mto_timedelta() \u001b[39m+\u001b[39m other\n\u001b[0;32m    959\u001b[0m \u001b[39melse\u001b[39;00m:\n\u001b[1;32m--> 960\u001b[0m     \u001b[39mreturn\u001b[39;00m \u001b[39mself\u001b[39;49m\u001b[39m.\u001b[39;49m_add_sub(other, operator\u001b[39m.\u001b[39;49madd)\n",
      "File \u001b[1;32mc:\\prog\\py\\lib\\site-packages\\pint\\facets\\plain\\quantity.py:102\u001b[0m, in \u001b[0;36mcheck_implemented.<locals>.wrapped\u001b[1;34m(self, *args, **kwargs)\u001b[0m\n\u001b[0;32m    100\u001b[0m \u001b[39melif\u001b[39;00m \u001b[39misinstance\u001b[39m(other, \u001b[39mlist\u001b[39m) \u001b[39mand\u001b[39;00m other \u001b[39mand\u001b[39;00m \u001b[39misinstance\u001b[39m(other[\u001b[39m0\u001b[39m], \u001b[39mtype\u001b[39m(\u001b[39mself\u001b[39m)):\n\u001b[0;32m    101\u001b[0m     \u001b[39mreturn\u001b[39;00m \u001b[39mNotImplemented\u001b[39m\n\u001b[1;32m--> 102\u001b[0m \u001b[39mreturn\u001b[39;00m f(\u001b[39mself\u001b[39m, \u001b[39m*\u001b[39margs, \u001b[39m*\u001b[39m\u001b[39m*\u001b[39mkwargs)\n",
      "File \u001b[1;32mc:\\prog\\py\\lib\\site-packages\\pint\\facets\\plain\\quantity.py:862\u001b[0m, in \u001b[0;36mPlainQuantity._add_sub\u001b[1;34m(self, other, op)\u001b[0m\n\u001b[0;32m    859\u001b[0m     \u001b[39mreturn\u001b[39;00m \u001b[39mself\u001b[39m\u001b[39m.\u001b[39m\u001b[39m__class__\u001b[39m(magnitude, units)\n\u001b[0;32m    861\u001b[0m \u001b[39mif\u001b[39;00m \u001b[39mnot\u001b[39;00m \u001b[39mself\u001b[39m\u001b[39m.\u001b[39mdimensionality \u001b[39m==\u001b[39m other\u001b[39m.\u001b[39mdimensionality:\n\u001b[1;32m--> 862\u001b[0m     \u001b[39mraise\u001b[39;00m DimensionalityError(\n\u001b[0;32m    863\u001b[0m         \u001b[39mself\u001b[39m\u001b[39m.\u001b[39m_units, other\u001b[39m.\u001b[39m_units, \u001b[39mself\u001b[39m\u001b[39m.\u001b[39mdimensionality, other\u001b[39m.\u001b[39mdimensionality\n\u001b[0;32m    864\u001b[0m     )\n\u001b[0;32m    866\u001b[0m \u001b[39m# Next we define some variables to make if-clauses more readable.\u001b[39;00m\n\u001b[0;32m    867\u001b[0m self_non_mul_units \u001b[39m=\u001b[39m \u001b[39mself\u001b[39m\u001b[39m.\u001b[39m_get_non_multiplicative_units()\n",
      "\u001b[1;31mDimensionalityError\u001b[0m: Cannot convert from 'kilogram * megawatt * rub / kilowatt / meter ** 3' ([currency] * [mass] / [length] ** 3) to 'Mrub' ([currency])"
     ]
    }
   ],
   "source": [
    "# 4 \n",
    "# затраты нга ремонт оборудования\n",
    "Z_rem = 0.2 * Z_AM\n",
    "# прочие текущие затраты\n",
    "Z_PR = 0.35 * Z_AM\n",
    "# Суммарные затраты на производство\n",
    "Z = Z_T + Z_AM + Z_ZP + Z_rem + Z_PR\n",
    "Z"
   ]
  },
  {
   "cell_type": "code",
   "execution_count": null,
   "metadata": {},
   "outputs": [],
   "source": []
  }
 ],
 "metadata": {
  "kernelspec": {
   "display_name": "Python 3",
   "language": "python",
   "name": "python3"
  },
  "language_info": {
   "codemirror_mode": {
    "name": "ipython",
    "version": 3
   },
   "file_extension": ".py",
   "mimetype": "text/x-python",
   "name": "python",
   "nbconvert_exporter": "python",
   "pygments_lexer": "ipython3",
   "version": "3.10.6"
  },
  "orig_nbformat": 4
 },
 "nbformat": 4,
 "nbformat_minor": 2
}
